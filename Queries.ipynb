{
 "cells": [
  {
   "cell_type": "code",
   "execution_count": 1,
   "id": "15738d81-d171-461e-a753-adae0a7395f0",
   "metadata": {
    "tags": []
   },
   "outputs": [],
   "source": [
    "import pyspark\n",
    "from pyspark.sql import SparkSession\n",
    "\n",
    "spark = SparkSession.builder.getOrCreate()"
   ]
  },
  {
   "cell_type": "code",
   "execution_count": 2,
   "id": "6af555c1-18f5-4634-8aac-708dc1b8f4ea",
   "metadata": {
    "tags": []
   },
   "outputs": [
    {
     "data": {
      "text/plain": [
       "DataFrame[ID: string, Name: string, Sex: string, Age: string, Height: string, Weight: string, Team: string, NOC: string, Games: string, Year: string, Season: string, City: string, Sport: string, Event: string, Medal: string]"
      ]
     },
     "metadata": {},
     "output_type": "display_data"
    }
   ],
   "source": [
    "event = spark.read.format(\"csv\").option(\"header\", \"true\").load(\"athlete_events.csv\")\n",
    " \n",
    "event.createOrReplaceTempView(\"AthleteEvents\")\n",
    " \n",
    "display(event)"
   ]
  },
  {
   "cell_type": "code",
   "execution_count": 4,
   "id": "4e05cf19-7541-4e1c-a9fd-03b1bdaad78b",
   "metadata": {
    "tags": []
   },
   "outputs": [
    {
     "name": "stdout",
     "output_type": "stream",
     "text": [
      "+--------------------+--------------+\n",
      "|               Event|NumOccurrences|\n",
      "+--------------------+--------------+\n",
      "|Football Men's Fo...|          5728|\n",
      "+--------------------+--------------+\n",
      "only showing top 1 row\n",
      "\n"
     ]
    }
   ],
   "source": [
    "#What is the most common Olympic event for male athletes?\n",
    "\n",
    "from pyspark.sql.functions import count, desc\n",
    "\n",
    "male_events = event.filter(event.Sex == \"M\")\n",
    "male_events.groupBy(\"Event\").agg(count(\"Event\").alias(\"NumOccurrences\")).orderBy(desc(\"NumOccurrences\")).show(1)"
   ]
  },
  {
   "cell_type": "code",
   "execution_count": 32,
   "id": "c2b2abbd-da5e-4808-8956-fedc93a8f8c4",
   "metadata": {
    "tags": []
   },
   "outputs": [
    {
     "name": "stdout",
     "output_type": "stream",
     "text": [
      "+--------------------+--------------+\n",
      "|               Event|NumOccurrences|\n",
      "+--------------------+--------------+\n",
      "|Volleyball Women'...|          1543|\n",
      "+--------------------+--------------+\n",
      "only showing top 1 row\n",
      "\n"
     ]
    }
   ],
   "source": [
    "#What is the most common Olympic event for female athletes?\n",
    "\n",
    "from pyspark.sql.functions import count, desc\n",
    "\n",
    "male_events = event.filter(event.Sex == \"F\")\n",
    "male_events.groupBy(\"Event\").agg(count(\"Event\").alias(\"NumOccurrences\")).orderBy(desc(\"NumOccurrences\")).show(1)"
   ]
  },
  {
   "cell_type": "code",
   "execution_count": 7,
   "id": "9f9dafc2-6c6c-4b75-a1e7-855dffa09390",
   "metadata": {
    "tags": []
   },
   "outputs": [
    {
     "name": "stdout",
     "output_type": "stream",
     "text": [
      "+----+------+--------------------+\n",
      "|Year|Season|         MaxAthletes|\n",
      "+----+------+--------------------+\n",
      "|2004|Summer|Wrestling Women's...|\n",
      "+----+------+--------------------+\n",
      "only showing top 1 row\n",
      "\n"
     ]
    }
   ],
   "source": [
    "#Which Olympic games had the highest number of participating athletes?\n",
    "from pyspark.sql.functions import max\n",
    "\n",
    "event.groupBy(\"Year\", \"Season\").agg(max(\"Event\").alias(\"MaxAthletes\")).orderBy(desc(\"MaxAthletes\")).show(1)"
   ]
  },
  {
   "cell_type": "code",
   "execution_count": 10,
   "id": "4f6c8016-6632-40a6-ad19-e9a56dfaa29d",
   "metadata": {
    "tags": []
   },
   "outputs": [
    {
     "name": "stdout",
     "output_type": "stream",
     "text": [
      "+-------------+------------------+\n",
      "|         Team|           Avg_Age|\n",
      "+-------------+------------------+\n",
      "|       Russia|              21.3|\n",
      "|     Paraguay|22.323529411764707|\n",
      "|      Senegal|22.058823529411764|\n",
      "|       Sweden|23.666666666666668|\n",
      "|Upton Park FC|23.857142857142858|\n",
      "|     Malaysia|24.733333333333334|\n",
      "|         Fiji|            22.625|\n",
      "|       Turkey| 24.83783783783784|\n",
      "|         Iraq|23.661971830985916|\n",
      "|      Germany|24.145454545454545|\n",
      "|  Afghanistan|              null|\n",
      "|        Sudan|              28.0|\n",
      "|       France| 24.08955223880597|\n",
      "|       Greece|             23.25|\n",
      "|      Algeria|          23.09375|\n",
      "|     Slovakia| 22.77777777777778|\n",
      "|    Argentina| 22.53543307086614|\n",
      "|      Belgium| 25.25862068965517|\n",
      "|Great Britain|25.691666666666666|\n",
      "|        Qatar|19.814814814814813|\n",
      "+-------------+------------------+\n",
      "only showing top 20 rows\n",
      "\n"
     ]
    }
   ],
   "source": [
    "#Average age of male athletes in each country with respective game\n",
    "from pyspark.sql.functions import avg\n",
    "\n",
    "game_name = \"Football\"\n",
    "df_filtered = event.filter((event.Sex == \"M\") & (event.Sport == game_name))\n",
    "\n",
    "avg_age_by_country = df_filtered.groupBy(\"Team\").agg(avg(\"Age\").alias(\"Avg_Age\"))\n",
    "\n",
    "avg_age_by_country.show()"
   ]
  },
  {
   "cell_type": "code",
   "execution_count": 11,
   "id": "a0050985-323e-4397-a984-b5319a2f25be",
   "metadata": {
    "tags": []
   },
   "outputs": [
    {
     "name": "stdout",
     "output_type": "stream",
     "text": [
      "+-------------+------------------+\n",
      "|         Team|           Avg_Age|\n",
      "+-------------+------------------+\n",
      "|       Russia| 25.95049504950495|\n",
      "|       Sweden| 22.26153846153846|\n",
      "|      Germany| 26.68211920529801|\n",
      "|United States|23.579646017699115|\n",
      "|        China|23.074766355140188|\n",
      "| Soviet Union|24.583333333333332|\n",
      "|        Italy|25.515151515151516|\n",
      "|       Norway| 23.93975903614458|\n",
      "|      Ukraine|23.857142857142858|\n",
      "| East Germany| 21.40983606557377|\n",
      "|  North Korea|              20.5|\n",
      "|  South Korea|19.677419354838708|\n",
      "|  Switzerland|              24.4|\n",
      "| Unified Team| 23.22222222222222|\n",
      "|       Canada|24.048387096774192|\n",
      "|        Japan|23.701421800947866|\n",
      "|      Austria|25.058823529411764|\n",
      "|   Kazakhstan|24.761904761904763|\n",
      "|  Netherlands| 24.44776119402985|\n",
      "|       France|20.956521739130434|\n",
      "+-------------+------------------+\n",
      "only showing top 20 rows\n",
      "\n"
     ]
    }
   ],
   "source": [
    "#Average age of female athletes in each country with respective game\n",
    "\n",
    "from pyspark.sql.functions import avg\n",
    "\n",
    "game_name = \"Speed Skating\"\n",
    "df_filtered = event.filter((event.Sex == \"F\") & (event.Sport == game_name))\n",
    "\n",
    "avg_age_by_country = df_filtered.groupBy(\"Team\").agg(avg(\"Age\").alias(\"Avg_Age\"))\n",
    "\n",
    "avg_age_by_country.show()"
   ]
  },
  {
   "cell_type": "code",
   "execution_count": 22,
   "id": "cc75e06e-5cc7-40ae-89f8-5636b57f20a6",
   "metadata": {
    "tags": []
   },
   "outputs": [
    {
     "name": "stdout",
     "output_type": "stream",
     "text": [
      "The athlete with the most medals in Tennis is Leander Adrian Paes.\n"
     ]
    }
   ],
   "source": [
    "#which owns the most medals according to the respective game\n",
    "\n",
    "game_name = \"Tennis\"\n",
    "game_df = event.filter(event.Sport == game_name)\n",
    "\n",
    "if game_df.count() == 0:\n",
    "    print(f\"No events found for {game_name}.\")\n",
    "else:\n",
    "    medals_df = game_df.groupBy(\"Name\").agg({\"Medal\": \"count\"})\n",
    "\n",
    "    if medals_df.count() == 0:\n",
    "        print(f\"No medals found for {game_name}.\")\n",
    "    else:\n",
    "        top_athlete = medals_df.orderBy(\"count(Medal)\", ascending=False).first()[\"Name\"]\n",
    "        print(f\"The athlete with the most medals in {game_name} is {top_athlete}.\")"
   ]
  },
  {
   "cell_type": "code",
   "execution_count": 23,
   "id": "26881725-9782-42e0-b57f-7c9f77e58abe",
   "metadata": {
    "tags": []
   },
   "outputs": [
    {
     "name": "stdout",
     "output_type": "stream",
     "text": [
      "+----------------+---+------------------+------------------+\n",
      "|           Sport|Sex|       avg(Height)|       avg(Weight)|\n",
      "+----------------+---+------------------+------------------+\n",
      "|       Athletics|  M| 179.7508488574837| 73.81517898651789|\n",
      "|        Softball|  F|169.39508928571428| 67.47165532879819|\n",
      "|          Tennis|  F|172.31921487603304| 62.08324661810614|\n",
      "|        Canoeing|  M|181.20725995316158| 79.95920281359906|\n",
      "|   Equestrianism|  F|167.88072601555749| 58.60469157254561|\n",
      "|       Taekwondo|  F|170.81164383561645| 61.13682432432432|\n",
      "|          Diving|  F| 161.1736040609137| 53.56656346749226|\n",
      "|        Football|  F|167.68431771894095| 60.94087665647299|\n",
      "|       Wrestling|  F|163.86513157894737|60.554455445544555|\n",
      "|  Figure Skating|  M|176.08588957055215|  69.5840108401084|\n",
      "|      Gymnastics|  M|167.63883336361985| 63.34486129212437|\n",
      "|      Water Polo|  M|186.80713974749673| 87.71294223018361|\n",
      "|Art Competitions|  F|             160.0|              null|\n",
      "|   Equestrianism|  M|176.54437009019495| 70.91381850324102|\n",
      "|      Volleyball|  M|193.28659562535054| 86.92402926280248|\n",
      "|       Wrestling|  M|172.86313071116408| 76.39891913530825|\n",
      "| Nordic Combined|  M|             176.5| 66.90375586854461|\n",
      "|         Curling|  M| 180.7212389380531| 81.42364532019704|\n",
      "|         Fencing|  M|180.01123595505618| 75.39863445378151|\n",
      "|          Tennis|  M| 184.8622305529522| 78.84467881112177|\n",
      "+----------------+---+------------------+------------------+\n",
      "only showing top 20 rows\n",
      "\n"
     ]
    }
   ],
   "source": [
    "#what is the average height and weight of female and male athletes in each sport\n",
    "from pyspark.sql.functions import avg\n",
    "\n",
    "athlete_df = event.filter((event.Sex == 'M') | (event.Sex == 'F'))\n",
    "\n",
    "result_df = athlete_df.groupBy(\"Sport\", \"Sex\").agg(avg(\"Height\"), avg(\"Weight\"))\n",
    "\n",
    "result_df.show()"
   ]
  },
  {
   "cell_type": "code",
   "execution_count": 25,
   "id": "53e2a370-664d-40a7-87a7-0b83b2b49bca",
   "metadata": {
    "tags": []
   },
   "outputs": [
    {
     "name": "stdout",
     "output_type": "stream",
     "text": [
      "Sports held in Paris:\n",
      "Gymnastics\n",
      "Tennis\n",
      "Boxing\n",
      "Golf\n",
      "Rowing\n",
      "Sailing\n",
      "Swimming\n",
      "Equestrianism\n",
      "Croquet\n",
      "Athletics\n",
      "Polo\n",
      "Shooting\n",
      "Diving\n",
      "Wrestling\n",
      "Water Polo\n",
      "Weightlifting\n",
      "Tug-Of-War\n",
      "Cricket\n",
      "Modern Pentathlon\n",
      "Rugby\n",
      "Cycling\n",
      "Archery\n",
      "Fencing\n",
      "Football\n",
      "Art Competitions\n",
      "Basque Pelota\n",
      "\n",
      "Years in which Paris held the Olympics:\n",
      "1924\n",
      "1900\n"
     ]
    }
   ],
   "source": [
    "#what are the different sports and year held in Paris?\n",
    "\n",
    "paris_df = event.filter(event.City == 'Paris')\n",
    "\n",
    "sports = paris_df.select('Sport').distinct().collect()\n",
    "years = paris_df.select('Year').distinct().collect()\n",
    "\n",
    "print(\"Sports held in Paris:\")\n",
    "for sport in sports:\n",
    "    print(sport.Sport)\n",
    "\n",
    "print(\"\\nYears in which Paris held the Olympics:\")\n",
    "for year in years:\n",
    "    print(year.Year)\n"
   ]
  },
  {
   "cell_type": "code",
   "execution_count": 31,
   "id": "3d8c2afc-eaa2-4022-8477-8ad289572f23",
   "metadata": {
    "tags": []
   },
   "outputs": [
    {
     "name": "stdout",
     "output_type": "stream",
     "text": [
      "Countries that won the most gold medals in the 2016 Olympics:\n",
      "USA 138\n",
      "GBR 64\n",
      "RUS 52\n",
      "GER 49\n",
      "CHN 46\n",
      "BRA 36\n",
      "AUS 23\n",
      "ARG 21\n",
      "FRA 20\n",
      "JPN 17\n"
     ]
    }
   ],
   "source": [
    "#Which countries won the maximum gold Medals in the last held olympic competitions?\n",
    "\n",
    "latest_year = event.select(\"Year\").distinct().orderBy(\"Year\", ascending=False).first().Year\n",
    "latest_year_df = event.filter(event.Year == latest_year)\n",
    "medals_df = year_df.groupBy(\"NOC\", \"Medal\").count()\n",
    "gold_df = medals_df.filter(medals_df.Medal == 'Gold')\n",
    "gold_df = gold_df.orderBy('count', ascending=False)\n",
    "\n",
    "print(f\"Countries that won the most gold medals in the {year} Olympics:\")\n",
    "for row in gold_df.take(10):\n",
    "    print(row.NOC, row['count'])"
   ]
  },
  {
   "cell_type": "code",
   "execution_count": 33,
   "id": "7219e226-be40-4fc8-9aaf-8eb41b5862ef",
   "metadata": {
    "tags": []
   },
   "outputs": [
    {
     "name": "stdout",
     "output_type": "stream",
     "text": [
      "The country with the highest number of medals is USA with a total of 18331 medals.\n"
     ]
    }
   ],
   "source": [
    "#Which country has the highest medals (gold, silver, bronze)?\n",
    "\n",
    "medals_df = event.groupBy(\"NOC\", \"Medal\").count()\n",
    "total_df = medals_df.groupBy(\"NOC\").agg({\"count\": \"sum\"}).withColumnRenamed(\"sum(count)\", \"total\")\n",
    "total_df = total_df.orderBy('total', ascending=False)\n",
    "\n",
    "print(f\"The country with the highest number of medals is {total_df.first().NOC} with a total of {total_df.first().total} medals.\")"
   ]
  },
  {
   "cell_type": "code",
   "execution_count": null,
   "id": "636b0128-b846-457d-aa10-483db98eccd0",
   "metadata": {},
   "outputs": [],
   "source": []
  }
 ],
 "metadata": {
  "kernelspec": {
   "display_name": "Python 3 (ipykernel)",
   "language": "python",
   "name": "python3"
  },
  "language_info": {
   "codemirror_mode": {
    "name": "ipython",
    "version": 3
   },
   "file_extension": ".py",
   "mimetype": "text/x-python",
   "name": "python",
   "nbconvert_exporter": "python",
   "pygments_lexer": "ipython3",
   "version": "3.10.3"
  }
 },
 "nbformat": 4,
 "nbformat_minor": 5
}
